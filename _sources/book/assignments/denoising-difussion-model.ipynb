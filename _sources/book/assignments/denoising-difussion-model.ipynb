{
 "cells": [
  {
   "cell_type": "markdown",
   "metadata": {},
   "source": [
    "# Summary"
   ]
  },
  {
   "cell_type": "markdown",
   "metadata": {},
   "source": [
    "This notebook shows how to train Denoising Difussion Models.\n",
    "\n",
    "The code has been adapted and curated from [this tutorial by Andras Beres](https://colab.research.google.com/github/keras-team/keras-io/blob/master/examples/generative/ipynb/ddim.ipynb#scrollTo=XtxiDuXZGcAu). "
   ]
  },
  {
   "cell_type": "markdown",
   "metadata": {},
   "source": [
    "## Hyperparams"
   ]
  },
  {
   "cell_type": "code",
   "execution_count": null,
   "metadata": {},
   "outputs": [],
   "source": [
    "import numpy as np\n",
    "import math\n",
    "import tensorflow as tf\n",
    "import tensorflow_datasets as tfds\n",
    "import tensorflow_addons as tfa\n",
    "import matplotlib.pyplot as plt\n",
    "import os\n",
    "\n",
    "# data\n",
    "diffusion_steps = 20\n",
    "image_size = 32\n",
    "\n",
    "# sampling\n",
    "min_signal_rate = 0.02\n",
    "max_signal_rate = 0.95\n",
    "\n",
    "# optimization\n",
    "batch_size = 64\n",
    "num_epochs = 10\n",
    "learning_rate = 1e-3\n",
    "weight_decay = 1e-4\n",
    "ema = 0.999"
   ]
  },
  {
   "cell_type": "markdown",
   "metadata": {},
   "source": [
    "## Dataset"
   ]
  },
  {
   "cell_type": "code",
   "execution_count": null,
   "metadata": {},
   "outputs": [],
   "source": [
    "def preprocess_image(data):\n",
    "    # center crop image\n",
    "    height = tf.shape(____)[0]\n",
    "    width = tf.shape(____)[1]\n",
    "    crop_size = tf.minimum(height, width)\n",
    "    image = tf.image.crop_to_bounding_box(\n",
    "        data[\"image\"],\n",
    "        (height - crop_size) // 2,\n",
    "        (width - crop_size) // 2,\n",
    "        crop_size,\n",
    "        crop_size,\n",
    "    )\n",
    "    # resize and clip\n",
    "    # for image downsampling it is important to turn on antialiasing\n",
    "    image = tf.image.resize(image, size=[image_size, image_size], antialias=True)\n",
    "    return tf.clip_by_value(image / 255.0, 0.0, 1.0)\n",
    "\n",
    "def prepare_dataset(split):\n",
    "    return (\n",
    "        tfds.load(____, split=split, shuffle_files=True)\n",
    "        .map(preprocess_image, num_parallel_calls=tf.data.AUTOTUNE)\n",
    "        .cache()\n",
    "        .repeat(1)\n",
    "        .shuffle(10000)\n",
    "        .batch(batch_size, drop_remainder=True)\n",
    "        .prefetch(buffer_size=tf.data.AUTOTUNE)\n",
    "    )\n",
    "\n",
    "# load dataset\n",
    "train_dataset = prepare_dataset(\"train\")\n",
    "val_dataset = prepare_dataset(\"test\")"
   ]
  },
  {
   "cell_type": "markdown",
   "metadata": {},
   "source": [
    "<div class=\"alert alert-info\">\n",
    "    \n",
    "<details><summary>👩‍💻 <b>Hint</b></summary>\n",
    "\n",
    "We need to retrieve image data and load the MNIST dataset.\n",
    "\n",
    "</details>\n",
    "\n",
    "</div>"
   ]
  },
  {
   "cell_type": "markdown",
   "metadata": {},
   "source": [
    "## Denoising Network\n",
    "\n",
    "We will use the [Residual U-Net](https://www.sciencedirect.com/science/article/abs/pii/S0924271620300149) model."
   ]
  },
  {
   "cell_type": "markdown",
   "metadata": {},
   "source": [
    "## TODO: can we use something simpler?"
   ]
  },
  {
   "cell_type": "code",
   "execution_count": 5,
   "metadata": {},
   "outputs": [],
   "source": [
    "embedding_max_frequency = 1000.0\n",
    "embedding_dims = 64\n",
    "\n",
    "def sinusoidal_embedding(x):\n",
    "    embedding_min_frequency = 1.0\n",
    "    frequencies = tf.exp(\n",
    "        tf.linspace(\n",
    "            tf.math.log(____),\n",
    "            tf.math.log(____),\n",
    "            embedding_dims // 2,\n",
    "        )\n",
    "    )\n",
    "    angular_speeds = 2.0 * math.pi * frequencies\n",
    "    embeddings = tf.concat(\n",
    "        [tf.sin(____ * ____), tf.cos(____ * ____)], axis=3\n",
    "    )\n",
    "    return embeddings"
   ]
  },
  {
   "cell_type": "markdown",
   "metadata": {},
   "source": [
    "<div class=\"alert alert-info\">\n",
    "    \n",
    "<details><summary>👩‍💻 <b>Hint</b></summary>\n",
    "\n",
    "Create a range of logarithmically spaced values between minimum frequency and maximum frequency, and then take the exponential of these values.Concatenate the sine and cosine components to form the final embedding.\n",
    "\n",
    "</details>\n",
    "\n",
    "</div>"
   ]
  },
  {
   "cell_type": "markdown",
   "metadata": {},
   "source": [
    "## Custom Residual Network"
   ]
  },
  {
   "cell_type": "code",
   "execution_count": 6,
   "metadata": {},
   "outputs": [],
   "source": [
    "def get_network_custom(image_size, block_depth=17, output_channels=1):\n",
    "    # use the correct number of channels\n",
    "    noisy_images = tf.keras.Input(shape=(image_size, image_size, output_channels))\n",
    "    noise_variances = tf.keras.Input(shape=(1, 1, 1))\n",
    "\n",
    "    e = tf.keras.layers.Lambda(____)(____)\n",
    "    e = tf.keras.layers.UpSampling2D(size=image_size, interpolation=\"nearest\")(e)\n",
    "    x = tf.keras.layers.Conv2D(32, kernel_size=1)(____)\n",
    "    x = tf.keras.layers.Concatenate()([x, e])\n",
    "\n",
    "    x = tf.keras.layers.Conv2D(64, 3, padding='same', activation=tf.nn.relu)(x)\n",
    "    for layers in range(2, block_depth+1):\n",
    "        x = tf.keras.layers.BatchNormalization(center=False, scale=False)(x)\n",
    "        x = tf.keras.layers.Conv2D(\n",
    "            64, 3,\n",
    "            padding='same', name='conv%d' % layers,\n",
    "            activation=tf.keras.activations.swish,\n",
    "            use_bias=False\n",
    "        )(x)\n",
    "\n",
    "    x = tf.keras.layers.Conv2D(output_channels, kernel_size=1, kernel_initializer=\"zeros\")(x)\n",
    "    return tf.keras.Model([noisy_images, noise_variances], x, name=\"simple-residual-net\")"
   ]
  },
  {
   "cell_type": "markdown",
   "metadata": {},
   "source": [
    "<div class=\"alert alert-info\">\n",
    "    \n",
    "<details><summary>👩‍💻 <b>Hint</b></summary>\n",
    "\n",
    "We perform sinusoidal embedding on the noise variance data and use a convolutional layer to convolve the noisy image data.\n",
    "\n",
    "</details>\n",
    "\n",
    "</div>"
   ]
  },
  {
   "cell_type": "markdown",
   "metadata": {},
   "source": [
    "## Residual U-Net"
   ]
  },
  {
   "cell_type": "code",
   "execution_count": 7,
   "metadata": {},
   "outputs": [],
   "source": [
    "widths = [32, 64, 96, 128]\n",
    "block_depth = 2\n",
    "\n",
    "def ResidualBlock(width):\n",
    "    def apply(x):\n",
    "        input_width = x.shape[3]\n",
    "        if input_width == width:\n",
    "            residual = x\n",
    "        else:\n",
    "            residual = tf.keras.layers.Conv2D(width, kernel_size=1)(x)\n",
    "        x = tf.keras.layers.BatchNormalization(center=False, scale=False)(x)\n",
    "        x = tf.keras.layers.Conv2D(\n",
    "            width, kernel_size=3, padding=\"same\", activation=tf.keras.activations.swish\n",
    "        )(x)\n",
    "        x = tf.keras.layers.Conv2D(width, kernel_size=3, padding=\"same\")(x)\n",
    "        x = tf.keras.layers.Add()([x, residual])\n",
    "        return x\n",
    "\n",
    "    return apply\n",
    "\n",
    "\n",
    "def DownBlock(width, block_depth):\n",
    "    def apply(x):\n",
    "        x, skips = x\n",
    "        for _ in range(block_depth):\n",
    "            x = ResidualBlock(width)(x)\n",
    "            skips.append(x)\n",
    "        x = tf.keras.layers.AveragePooling2D(pool_size=2)(x)\n",
    "        return x\n",
    "\n",
    "    return apply\n",
    "\n",
    "\n",
    "def UpBlock(width, block_depth):\n",
    "    def apply(x):\n",
    "        x, skips = x\n",
    "        x = tf.keras.layers.UpSampling2D(size=2, interpolation=\"bilinear\")(x)\n",
    "        for _ in range(block_depth):\n",
    "            x = tf.keras.layers.Concatenate()([x, skips.pop()])\n",
    "            x = ResidualBlock(width)(x)\n",
    "        return x\n",
    "\n",
    "    return apply\n",
    "\n",
    "\n",
    "def get_network(image_size, widths, block_depth):\n",
    "    # use the correct number of channels\n",
    "    noisy_images = tf.keras.Input(shape=(image_size, image_size, 1))\n",
    "    noise_variances = tf.keras.Input(shape=(1, 1, 1))\n",
    "\n",
    "    e = tf.keras.layers.Lambda(sinusoidal_embedding)(noise_variances)\n",
    "    e = tf.keras.layers.UpSampling2D(size=image_size, interpolation=\"nearest\")(e)\n",
    "\n",
    "    x = tf.keras.layers.Conv2D(widths[0], kernel_size=1)(noisy_images)\n",
    "    x = tf.keras.layers.Concatenate()([____, ____])\n",
    "\n",
    "    skips = []\n",
    "    for width in widths[:-1]:\n",
    "        x = ____(width, block_depth)([x, skips])\n",
    "\n",
    "    for _ in range(____):\n",
    "        x = ResidualBlock(widths[-1])(x)\n",
    "\n",
    "    for width in reversed(widths[:-1]):\n",
    "        x = ____(width, block_depth)([x, skips])\n",
    "\n",
    "    x = tf.keras.layers.Conv2D(1, kernel_size=1, kernel_initializer=\"zeros\")(x)\n",
    "\n",
    "    return _____([noisy_images, noise_variances], x, name=\"residual_unet\")"
   ]
  },
  {
   "cell_type": "markdown",
   "metadata": {},
   "source": [
    "<div class=\"alert alert-info\">\n",
    "    \n",
    "<details><summary>👩‍💻 <b>Hint</b></summary>\n",
    "\n",
    "We need to construct downsampling and upsampling blocks, iterate over the depth of the residual blocks, and finally return a Keras model.\n",
    "\n",
    "</details>\n",
    "\n",
    "</div>"
   ]
  },
  {
   "cell_type": "markdown",
   "metadata": {},
   "source": [
    "## Difussion Model"
   ]
  },
  {
   "cell_type": "code",
   "execution_count": 8,
   "metadata": {},
   "outputs": [],
   "source": [
    "class DiffusionModel(tf.keras.Model):\n",
    "    def __init__(self, network):\n",
    "        super().__init__()\n",
    "        self.normalizer = tf.keras.layers.Normalization()\n",
    "        self.network = network\n",
    "        self.ema_network = tf.keras.models.clone_model(self.network)\n",
    "\n",
    "    def compile(self, **kwargs):\n",
    "        super().compile(**kwargs)\n",
    "        self.noise_loss_tracker = tf.keras.metrics.Mean(name=\"n_loss\")\n",
    "        self.image_loss_tracker = tf.keras.metrics.Mean(name=\"i_loss\")\n",
    "\n",
    "    @property\n",
    "    def metrics(self):\n",
    "        return [self.noise_loss_tracker, self.image_loss_tracker]\n",
    "\n",
    "    def denormalize(self, images):\n",
    "        images = self.normalizer.mean + images * self.normalizer.variance**0.5\n",
    "        return tf.clip_by_value(images, 0.0, 1.0)\n",
    "\n",
    "    def diffusion_schedule(self, diffusion_times):\n",
    "        # diffusion times -> angles\n",
    "        start_angle = tf.acos(max_signal_rate)\n",
    "        end_angle = tf.acos(min_signal_rate)\n",
    "        diffusion_angles = ____ + ____ * (____ - ____)\n",
    "        # angles -> signal and noise rates\n",
    "        signal_rates = tf.cos(diffusion_angles)\n",
    "        noise_rates = tf.sin(diffusion_angles)\n",
    "        # note that their squared sum is always: sin^2(x) + cos^2(x) = 1\n",
    "        return noise_rates, signal_rates\n",
    "\n",
    "    def denoise(self, noisy_images, noise_rates, signal_rates, training):\n",
    "        # the exponential moving average weights are used at evaluation\n",
    "        if training:\n",
    "            network = self.network\n",
    "        else:\n",
    "            network = self.ema_network\n",
    "        # predict noise component and calculate the image component using it\n",
    "        pred_noises = network([noisy_images, noise_rates**2], training=training)\n",
    "        pred_images = (____ - ____ * ____) / ____\n",
    "        return pred_noises, pred_images\n",
    "\n",
    "    def reverse_diffusion(self, initial_noise, steps):\n",
    "        # reverse diffusion = sampling\n",
    "        batch = initial_noise.shape[0]\n",
    "        step_size = 1.0 / steps\n",
    "\n",
    "        # important line:\n",
    "        # at the first sampling step, the \"noisy image\" is pure noise\n",
    "        # but its signal rate is assumed to be nonzero (min_signal_rate)\n",
    "        next_noisy_images = initial_noise\n",
    "        for step in range(diffusion_steps):\n",
    "            noisy_images = next_noisy_images\n",
    "            diffusion_times = tf.ones((batch, 1, 1, 1)) - step * step_size\n",
    "            noise_rates, signal_rates = self.diffusion_schedule(diffusion_times)\n",
    "            pred_noises, pred_images = self.denoise(\n",
    "                noisy_images, noise_rates, signal_rates, training=False\n",
    "            )\n",
    "\n",
    "            # this new noisy image will be used in the next step\n",
    "            next_diffusion_times = diffusion_times - step_size\n",
    "            next_noise_rates, next_signal_rates = self.diffusion_schedule(\n",
    "            next_diffusion_times\n",
    "            )\n",
    "            next_noisy_images = (\n",
    "            ____ * ____ + ____ * ____\n",
    "           )\n",
    "        return pred_images\n",
    "\n",
    "    def generate(self, num_images, steps):\n",
    "        # noise -> images -> denormalized images\n",
    "        initial_noise = tf.random.normal(shape=(num_images, image_size, image_size, 1))\n",
    "        generated_images = self.reverse_diffusion(initial_noise, steps)\n",
    "        generated_images = self.denormalize(generated_images)\n",
    "        return generated_images\n",
    "\n",
    "    def train_step(self, images):\n",
    "        # normalize images to have standard deviation of 1, like the noises\n",
    "        images = self.normalizer(images, training=True)\n",
    "        noises = tf.random.normal(shape=images.shape)\n",
    "        diffusion_times = tf.random.uniform(\n",
    "            shape=(batch_size, 1, 1, 1), minval=0.0, maxval=1.0\n",
    "        )\n",
    "        noise_rates, signal_rates = self.diffusion_schedule(diffusion_times)\n",
    "\n",
    "        # mix the images with noises accordingly\n",
    "        noisy_images = signal_rates * images + noise_rates * noises\n",
    "\n",
    "        with tf.GradientTape() as tape:\n",
    "            # train the network to separate noisy images to their components\n",
    "            pred_noises, pred_images = self.denoise(\n",
    "                noisy_images, noise_rates, signal_rates, training=True\n",
    "            )\n",
    "\n",
    "            noise_loss = self.loss(noises, pred_noises)  # used for training\n",
    "            image_loss = self.loss(images, pred_images)  # only used as metric\n",
    "\n",
    "        gradients = tape.gradient(noise_loss, self.network.trainable_weights)\n",
    "        self.optimizer.apply_gradients(zip(gradients, self.network.trainable_weights))\n",
    "\n",
    "        self.noise_loss_tracker.update_state(noise_loss)\n",
    "        self.image_loss_tracker.update_state(image_loss)\n",
    "\n",
    "        # track the exponential moving averages of weights\n",
    "        for weight, ema_weight in zip(self.network.weights, self.ema_network.weights):\n",
    "            ema_weight.assign(ema * ema_weight + (1 - ema) * weight)\n",
    "\n",
    "        return {m.name: m.result() for m in self.metrics}"
   ]
  },
  {
   "cell_type": "markdown",
   "metadata": {},
   "source": [
    "<div class=\"alert alert-info\">\n",
    "    \n",
    "<details><summary>👩‍💻 <b>Hint</b></summary>\n",
    "\n",
    "Calculate the diffusion angle based on the diffusion time. Compute the denoised image by subtracting the predicted noise image. Generate the next noise image based on the next noise rate and signal rate.\n",
    "\n",
    "</details>\n",
    "\n",
    "</div>"
   ]
  },
  {
   "cell_type": "markdown",
   "metadata": {},
   "source": [
    "## Complete Model\n",
    "\n",
    "Chose one of the residual networks."
   ]
  },
  {
   "cell_type": "code",
   "execution_count": 9,
   "metadata": {},
   "outputs": [
    {
     "name": "stdout",
     "output_type": "stream",
     "text": [
      "Model: \"simple-residual-net\"\n",
      "__________________________________________________________________________________________________\n",
      " Layer (type)                   Output Shape         Param #     Connected to                     \n",
      "==================================================================================================\n",
      " input_2 (InputLayer)           [(None, 1, 1, 1)]    0           []                               \n",
      "                                                                                                  \n",
      " input_1 (InputLayer)           [(None, 32, 32, 1)]  0           []                               \n",
      "                                                                                                  \n",
      " lambda (Lambda)                (None, 1, 1, 64)     0           ['input_2[0][0]']                \n",
      "                                                                                                  \n",
      " conv2d (Conv2D)                (None, 32, 32, 32)   64          ['input_1[0][0]']                \n",
      "                                                                                                  \n",
      " up_sampling2d (UpSampling2D)   (None, 32, 32, 64)   0           ['lambda[0][0]']                 \n",
      "                                                                                                  \n",
      " concatenate (Concatenate)      (None, 32, 32, 96)   0           ['conv2d[0][0]',                 \n",
      "                                                                  'up_sampling2d[0][0]']          \n",
      "                                                                                                  \n",
      " conv2d_1 (Conv2D)              (None, 32, 32, 64)   55360       ['concatenate[0][0]']            \n",
      "                                                                                                  \n",
      " batch_normalization (BatchNorm  (None, 32, 32, 64)  128         ['conv2d_1[0][0]']               \n",
      " alization)                                                                                       \n",
      "                                                                                                  \n",
      " conv2 (Conv2D)                 (None, 32, 32, 64)   36864       ['batch_normalization[0][0]']    \n",
      "                                                                                                  \n",
      " batch_normalization_1 (BatchNo  (None, 32, 32, 64)  128         ['conv2[0][0]']                  \n",
      " rmalization)                                                                                     \n",
      "                                                                                                  \n",
      " conv3 (Conv2D)                 (None, 32, 32, 64)   36864       ['batch_normalization_1[0][0]']  \n",
      "                                                                                                  \n",
      " batch_normalization_2 (BatchNo  (None, 32, 32, 64)  128         ['conv3[0][0]']                  \n",
      " rmalization)                                                                                     \n",
      "                                                                                                  \n",
      " conv4 (Conv2D)                 (None, 32, 32, 64)   36864       ['batch_normalization_2[0][0]']  \n",
      "                                                                                                  \n",
      " batch_normalization_3 (BatchNo  (None, 32, 32, 64)  128         ['conv4[0][0]']                  \n",
      " rmalization)                                                                                     \n",
      "                                                                                                  \n",
      " conv5 (Conv2D)                 (None, 32, 32, 64)   36864       ['batch_normalization_3[0][0]']  \n",
      "                                                                                                  \n",
      " batch_normalization_4 (BatchNo  (None, 32, 32, 64)  128         ['conv5[0][0]']                  \n",
      " rmalization)                                                                                     \n",
      "                                                                                                  \n",
      " conv6 (Conv2D)                 (None, 32, 32, 64)   36864       ['batch_normalization_4[0][0]']  \n",
      "                                                                                                  \n",
      " batch_normalization_5 (BatchNo  (None, 32, 32, 64)  128         ['conv6[0][0]']                  \n",
      " rmalization)                                                                                     \n",
      "                                                                                                  \n",
      " conv7 (Conv2D)                 (None, 32, 32, 64)   36864       ['batch_normalization_5[0][0]']  \n",
      "                                                                                                  \n",
      " batch_normalization_6 (BatchNo  (None, 32, 32, 64)  128         ['conv7[0][0]']                  \n",
      " rmalization)                                                                                     \n",
      "                                                                                                  \n",
      " conv8 (Conv2D)                 (None, 32, 32, 64)   36864       ['batch_normalization_6[0][0]']  \n",
      "                                                                                                  \n",
      " batch_normalization_7 (BatchNo  (None, 32, 32, 64)  128         ['conv8[0][0]']                  \n",
      " rmalization)                                                                                     \n",
      "                                                                                                  \n",
      " conv9 (Conv2D)                 (None, 32, 32, 64)   36864       ['batch_normalization_7[0][0]']  \n",
      "                                                                                                  \n",
      " batch_normalization_8 (BatchNo  (None, 32, 32, 64)  128         ['conv9[0][0]']                  \n",
      " rmalization)                                                                                     \n",
      "                                                                                                  \n",
      " conv10 (Conv2D)                (None, 32, 32, 64)   36864       ['batch_normalization_8[0][0]']  \n",
      "                                                                                                  \n",
      " conv2d_2 (Conv2D)              (None, 32, 32, 1)    65          ['conv10[0][0]']                 \n",
      "                                                                                                  \n",
      "==================================================================================================\n",
      "Total params: 388,417\n",
      "Trainable params: 387,265\n",
      "Non-trainable params: 1,152\n",
      "__________________________________________________________________________________________________\n",
      "None\n"
     ]
    }
   ],
   "source": [
    "network = get_network_custom(image_size,block_depth=10)\n",
    "# network = get_network(image_size,widths,block_depth)\n",
    "print(network.summary())"
   ]
  },
  {
   "cell_type": "code",
   "execution_count": 10,
   "metadata": {},
   "outputs": [
    {
     "name": "stdout",
     "output_type": "stream",
     "text": [
      "Epoch 1/10\n",
      "937/937 [==============================] - 2197s 2s/step - n_loss: 0.1291 - i_loss: 0.3230\n",
      "Epoch 2/10\n",
      "937/937 [==============================] - 1940s 2s/step - n_loss: 0.0934 - i_loss: 0.2160\n",
      "Epoch 3/10\n",
      "937/937 [==============================] - 1929s 2s/step - n_loss: 0.0881 - i_loss: 0.2033\n",
      "Epoch 4/10\n",
      "937/937 [==============================] - 1960s 2s/step - n_loss: 0.0864 - i_loss: 0.1974\n",
      "Epoch 5/10\n",
      "937/937 [==============================] - 1923s 2s/step - n_loss: 0.0841 - i_loss: 0.1926\n",
      "Epoch 6/10\n",
      "937/937 [==============================] - 1923s 2s/step - n_loss: 0.0835 - i_loss: 0.1908\n",
      "Epoch 7/10\n",
      "937/937 [==============================] - 1926s 2s/step - n_loss: 0.0823 - i_loss: 0.1864\n",
      "Epoch 8/10\n",
      "937/937 [==============================] - 1948s 2s/step - n_loss: 0.0813 - i_loss: 0.1817\n",
      "Epoch 9/10\n",
      "937/937 [==============================] - 1923s 2s/step - n_loss: 0.0813 - i_loss: 0.1825\n",
      "Epoch 10/10\n",
      "937/937 [==============================] - 1927s 2s/step - n_loss: 0.0801 - i_loss: 0.1787\n"
     ]
    },
    {
     "data": {
      "text/plain": [
       "<keras.callbacks.History at 0x25c6dfaf370>"
      ]
     },
     "execution_count": 10,
     "metadata": {},
     "output_type": "execute_result"
    }
   ],
   "source": [
    "model = DiffusionModel(network)\n",
    "model.compile(\n",
    "    optimizer=tfa.optimizers.AdamW(learning_rate=learning_rate, weight_decay=weight_decay),\n",
    "    loss=tf.keras.losses.mean_absolute_error,\n",
    ")\n",
    "model.normalizer.adapt(train_dataset)\n",
    "model.fit(\n",
    "    train_dataset,\n",
    "    epochs=num_epochs,\n",
    ")"
   ]
  },
  {
   "cell_type": "markdown",
   "metadata": {},
   "source": [
    "## Visualize"
   ]
  },
  {
   "cell_type": "code",
   "execution_count": 13,
   "metadata": {},
   "outputs": [
    {
     "data": {
      "image/png": "[encoded data removed]",
      "text/plain": [
       "<Figure size 600x400 with 6 Axes>"
      ]
     },
     "metadata": {},
     "output_type": "display_data"
    }
   ],
   "source": [
    "num_rows = 2\n",
    "num_cols = 3\n",
    "\n",
    "generated_images = model.generate(\n",
    "    num_images=num_rows * num_cols,\n",
    "    steps=diffusion_steps,\n",
    ")\n",
    "\n",
    "plt.figure(figsize=(num_cols * 2.0, num_rows * 2.0))\n",
    "for row in range(num_rows):\n",
    "    for col in range(num_cols):\n",
    "        index = row * num_cols + col\n",
    "        plt.subplot(num_rows, num_cols, index + 1)\n",
    "        plt.imshow(generated_images[index])\n",
    "        plt.axis(\"off\")\n",
    "\n",
    "plt.tight_layout()"
   ]
  },
  {
   "cell_type": "markdown",
   "metadata": {},
   "source": [
    "## Acknowledgments\n",
    "\n",
    "Thanks to [Maciej Skorski](https://www.kaggle.com/mskorski) for creating [Denoising Difussion Model](https://www.kaggle.com/code/mskorski/denoising-difussion-model). It inspires the majority of the content in this chapter."
   ]
  }
 ],
 "metadata": {
  "kernelspec": {
   "display_name": "Python 3 (ipykernel)",
   "language": "python",
   "name": "python3"
  },
  "language_info": {
   "codemirror_mode": {
    "name": "ipython",
    "version": 3
   },
   "file_extension": ".py",
   "mimetype": "text/x-python",
   "name": "python",
   "nbconvert_exporter": "python",
   "pygments_lexer": "ipython3",
   "version": "3.11.5"
  }
 },
 "nbformat": 4,
 "nbformat_minor": 2
}
